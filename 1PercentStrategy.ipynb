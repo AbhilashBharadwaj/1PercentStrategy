{
  "cells": [
    {
      "cell_type": "markdown",
      "metadata": {
        "colab_type": "text",
        "id": "view-in-github"
      },
      "source": [
        "<a href=\"https://colab.research.google.com/github/ImVis10/1PercentStrategy/blob/V1/1PercentStrategy.ipynb\" target=\"_parent\"><img src=\"https://colab.research.google.com/assets/colab-badge.svg\" alt=\"Open In Colab\"/></a>"
      ]
    },
    {
      "cell_type": "code",
      "execution_count": 1,
      "metadata": {
        "id": "ZXNfF1Z5Rdbx"
      },
      "outputs": [],
      "source": [
        "import csv  "
      ]
    },
    {
      "cell_type": "code",
      "execution_count": 5,
      "metadata": {
        "id": "bz4e0wvzSyAV"
      },
      "outputs": [],
      "source": [
        "API_KEY = 'OTPBXZ24V7Q9A24S'"
      ]
    },
    {
      "cell_type": "code",
      "execution_count": 2,
      "metadata": {
        "id": "ZA_RZXQdNDkE"
      },
      "outputs": [],
      "source": [
        "def write_to_csv(stock,data, mode):\n",
        "\n",
        "\n",
        "  # header = ['time', 'open', 'high', 'low', 'close', 'volume']\n",
        "\n",
        "  with open(stock+'_minute.csv', mode, encoding='UTF8') as f:\n",
        "      writer = csv.writer(f)\n",
        "\n",
        "      # write the header\n",
        "      # writer.writerow(header)\n",
        "\n",
        "      # write the data\n",
        "      writer.writerow(data)"
      ]
    },
    {
      "cell_type": "code",
      "execution_count": 3,
      "metadata": {
        "id": "l05pnchHOa14"
      },
      "outputs": [],
      "source": [
        "import csv\n",
        "import requests\n",
        "\n",
        "def get_stock_data(stock_name):\n",
        "  time_periods ={\n",
        "    # '1':'year1month1',\n",
        "    # '2':'year1month2',\n",
        "    # '3':'year1month3',\n",
        "    # '4':'year1month4',\n",
        "    # '5':'year1month5',\n",
        "    # '6':'year1month6',\n",
        "    # '7':'year1month7',\n",
        "    # '8':'year1month8',\n",
        "    # '9':'year1month9',\n",
        "    # '10':'year1month10',\n",
        "    # '11':'year1month11',\n",
        "    # '12':'year1month12',\n",
        "    # '13':'year2month1',\n",
        "    # '14':'year2month2',\n",
        "    # '15':'year2month3',\n",
        "    # '16':'year2month4',\n",
        "    # '17':'year2month5',\n",
        "    # '18':'year2month6',\n",
        "    # '19':'year2month7',\n",
        "    # '20':'year2month8',\n",
        "    # '21':'year2month9',\n",
        "    # '22':'year2month10',\n",
        "    # '23':'year2month11',\n",
        "    # '24':'year2month12',\n",
        "}\n",
        "  for month, time_period in time_periods.items():\n",
        "    CSV_URL = 'https://www.alphavantage.co/query?function=TIME_SERIES_INTRADAY_EXTENDED&symbol=%(stock)s&interval=1min&slice=%(slice)s&apikey=%(key)s&adjusted=false'\\\n",
        "            %{'stock':stock_name,'slice':time_period,'key':API_KEY}\n",
        "    with requests.Session() as s:\n",
        "      download = s.get(CSV_URL)\n",
        "      decoded_content = download.content.decode('utf-8')\n",
        "      cr = csv.reader(decoded_content.splitlines(), delimiter=',')\n",
        "      my_list = list(cr)\n",
        "      for row in my_list:\n",
        "          write_to_csv('test', row,'a')\n",
        "get_stock_data('IBM')          "
      ]
    },
    {
      "cell_type": "code",
      "execution_count": 51,
      "metadata": {
        "colab": {
          "base_uri": "https://localhost:8080/"
        },
        "id": "jYY4R-6IRY4J",
        "outputId": "4ad10e71-cb60-4ee5-8510-7a1f0468732d"
      },
      "outputs": [],
      "source": [
        "def get_stock_data(stock_name):\n",
        "    mode = 'r'\n",
        "    interval = 'minute'\n",
        "    file_path = stock_name+'_' + interval +'.csv'\n",
        "    minute_data = []\n",
        "    with open(file_path) as csv_file:\n",
        "        csv_reader = csv.reader(csv_file, delimiter=',')\n",
        "        for row in csv_reader:\n",
        "                minute_data.append(list(row))\n",
        "    return minute_data"
      ]
    },
    {
      "cell_type": "code",
      "execution_count": 52,
      "metadata": {},
      "outputs": [],
      "source": [
        "TSLA_minute_data = get_stock_data('TSLA')\n",
        "AAPL_minute_data = get_stock_data('AAPL')\n"
      ]
    },
    {
      "cell_type": "code",
      "execution_count": 53,
      "metadata": {
        "id": "7-RQoFvtg57D"
      },
      "outputs": [],
      "source": [
        "def get_daily_opening_candle(minute_data):\n",
        "  daily_opening_candle = []\n",
        "  date_and_time = minute_data[0][0].split()\n",
        "  current_date = date_and_time[0]\n",
        "  for i in range(len(minute_data)):\n",
        "    date_and_time = minute_data[i][0].split()\n",
        "    end_date = date_and_time[0]\n",
        "\n",
        "\n",
        "    # if there is a change in the current_date, get the data\n",
        "    if (current_date != end_date):\n",
        "      daily_opening_candle.append(minute_data[i-1])\n",
        "      current_date = end_date\n",
        "\n",
        "  daily_opening_candle.append(minute_data[-1])\n",
        "  daily_opening_candle.reverse()\n",
        "  return daily_opening_candle"
      ]
    },
    {
      "cell_type": "code",
      "execution_count": 54,
      "metadata": {
        "id": "320sELPWD7uN"
      },
      "outputs": [],
      "source": [
        "TSLA_daily_opening_candle = get_daily_opening_candle(TSLA_minute_data)\n",
        "AAPL_daily_opening_candle = get_daily_opening_candle(AAPL_minute_data)\n"
      ]
    },
    {
      "cell_type": "code",
      "execution_count": 55,
      "metadata": {
        "id": "Ov6oGzy4r_gm"
      },
      "outputs": [],
      "source": [
        "def get_daily_closing_candle(minute_data):\n",
        "    daily_closing_candle=[]\n",
        "    current_date = ''\n",
        "    for i in range(len(minute_data)):\n",
        "        date_and_time = minute_data[i][0].split()\n",
        "        end_date = date_and_time[0]\n",
        "\n",
        "        # if there is a change in the current_date, get the data\n",
        "        if (current_date != end_date):\n",
        "            daily_closing_candle.append(minute_data[i])\n",
        "            current_date = end_date\n",
        "\n",
        "    daily_closing_candle.reverse()\n",
        "    return daily_closing_candle\n"
      ]
    },
    {
      "cell_type": "code",
      "execution_count": 56,
      "metadata": {
        "id": "jEwRzWk5HPH0"
      },
      "outputs": [],
      "source": [
        "TSLA_daily_closing_candle = get_daily_closing_candle(TSLA_minute_data)\n",
        "AAPL_daily_closing_candle = get_daily_closing_candle(AAPL_minute_data)\n"
      ]
    },
    {
      "cell_type": "code",
      "execution_count": 57,
      "metadata": {
        "id": "L0ylK6arMDJt"
      },
      "outputs": [],
      "source": [
        "# Initialize\n",
        "PRINCIPAL = 1000\n",
        "returns = []\n",
        "num_trades = 0\n"
      ]
    },
    {
      "cell_type": "code",
      "execution_count": 58,
      "metadata": {
        "id": "bN5shmutLJC-"
      },
      "outputs": [],
      "source": [
        "def close_trade(gain_or_loss):\n",
        "    global PRINCIPAL\n",
        "    global num_trades\n",
        "    returns.append(gain_or_loss)\n",
        "    PRINCIPAL += gain_or_loss\n",
        "    num_trades += 1\n"
      ]
    },
    {
      "cell_type": "code",
      "execution_count": 59,
      "metadata": {},
      "outputs": [],
      "source": [
        "def get_time_series(date, minute_data):\n",
        "\n",
        "    time_series_data = []\n",
        "\n",
        "    for i in range(1, len(minute_data) ):\n",
        "        current_date = minute_data[i][0].split()[0]\n",
        "        if (current_date == date):\n",
        "            time_series_data.append(minute_data[i])\n",
        "            next_date = minute_data[i+1][0].split()[0]\n",
        "            if (current_date != next_date):\n",
        "                break\n",
        "    time_series_data.reverse()\n",
        "    return time_series_data"
      ]
    },
    {
      "cell_type": "code",
      "execution_count": 60,
      "metadata": {
        "id": "Nym4ivAcJM8D"
      },
      "outputs": [],
      "source": [
        "# Principal\n",
        "# Current_principal = Principal - buying_price\n",
        "# Once stock_price meets desired profit(gain)\n",
        "# Exit trade => Current_principal = current_principal + buying_price + Gain\n",
        "########################### Go bull ##################\n",
        "\n",
        "# Buy\n",
        "# Wait until you make desired profit or hit the SL\n",
        "# Exit\n",
        "def go_bull(profit_percent, buy_price, time_series_data):\n",
        "    target = buy_price + (buy_price * profit_percent)\n",
        "    stop_loss = profit_percent/2\n",
        "    bottom_line = buy_price - (buy_price*stop_loss)\n",
        "    # Start from second entry because we entered at first entry\n",
        "    for row in time_series_data[1:]:\n",
        "        # Check for stop loss first\n",
        "        #  Comparing with open and low\n",
        "        if (max(float(row[1]), float(row[3])) <= bottom_line):\n",
        "            close_trade(max(float(row[1]), float(row[3])) - buy_price)\n",
        "            return None\n",
        "        # Comparing with open and high\n",
        "        if (float(row[1]), float(row[2]) >= target):\n",
        "            close_trade(max(float(row[1]), float(row[2])) - buy_price)\n",
        "            return None\n",
        "    close_trade(buy_price - float(time_series_data[-1][4]))\n"
      ]
    },
    {
      "cell_type": "code",
      "execution_count": 61,
      "metadata": {
        "id": "O5R9pu-_KKoC"
      },
      "outputs": [],
      "source": [
        "# Principal\n",
        "# Current_principal = Principal - selling_price\n",
        "# Once stock_price meets desired profit(gain)\n",
        "# Exit trade => Current_principal = current_principal + selling_price + Gain\n",
        "########################### Go bear ##################\n",
        "\n",
        "# Sell\n",
        "# Wait until you make desired profit or hit the SL\n",
        "# Exit\n",
        "\n",
        "def go_bear(profit_percent, sell_price, time_series_data):\n",
        "    target = sell_price - (sell_price * profit_percent)\n",
        "    stop_loss = profit_percent/2\n",
        "    top_line = sell_price + (sell_price*stop_loss)\n",
        "\n",
        "\n",
        "# Start from second entry because we entered at first entry\n",
        "    for row in time_series_data[1:]:\n",
        "        # Check for stop loss first\n",
        "        #  Comparing with open and high\n",
        "        if (min(float(row[1]), float(row[2])) >= top_line):\n",
        "            close_trade(sell_price - min(float(row[1]), float(row[2])))\n",
        "            return None\n",
        "        # Comparing with open and low\n",
        "        if (min(float(row[1]), float(row[3])) <= target):\n",
        "            close_trade(sell_price - min(float(row[1]), float(row[3])))\n",
        "            return None\n",
        "    # Neither conditions hit. Close at the end of the trading day\n",
        "    print(time_series_data[-1])\n",
        "    close_trade(sell_price - float(time_series_data[-1][4]))\n"
      ]
    },
    {
      "cell_type": "code",
      "execution_count": 62,
      "metadata": {
        "id": "nfLlay9xsQow"
      },
      "outputs": [],
      "source": [
        "def run_simulation(profit_percentage, diff_between_trading_sessions, minute_data, daily_opening_candle, daily_closing_candle):\n",
        "\n",
        "    for i in range(len(daily_opening_candle)-1):\n",
        "\n",
        "        prev_stock_price = float(daily_closing_candle[i][4])\n",
        "        stock_price = float(daily_opening_candle[i+1][4])\n",
        "\n",
        "        bullish_condition = stock_price > prev_stock_price * \\\n",
        "            (1 + diff_between_trading_sessions)\n",
        "        bearish_condition = stock_price < prev_stock_price * \\\n",
        "            (1 - diff_between_trading_sessions)\n",
        "\n",
        "        if (bullish_condition):\n",
        "            time_series = get_time_series(\n",
        "                daily_opening_candle[i+1][0].split()[0], minute_data)\n",
        "            go_bull(profit_percentage, stock_price, time_series)\n",
        "\n",
        "        elif (bearish_condition):\n",
        "            time_series = get_time_series(\n",
        "                daily_opening_candle[i+1][0].split()[0], minute_data)\n",
        "            go_bear(profit_percentage, stock_price, time_series)\n"
      ]
    },
    {
      "cell_type": "markdown",
      "metadata": {},
      "source": [
        "# TESLA\n",
        "1. Profit percentage = 1%\n",
        "2. Difference between trading sessions = 0.5%"
      ]
    },
    {
      "cell_type": "code",
      "execution_count": 63,
      "metadata": {
        "id": "FXpR_0pbohQ0"
      },
      "outputs": [
        {
          "name": "stdout",
          "output_type": "stream",
          "text": [
            "1187.6200000000003\n",
            "269\n"
          ]
        }
      ],
      "source": [
        "PRINCIPAL = 1000\n",
        "num_trades = 0\n",
        "profit_percentage = 1/100\n",
        "diff_between_trading_sessions = 0.5/100\n",
        "\n",
        "run_simulation(profit_percentage, diff_between_trading_sessions,TSLA_minute_data,TSLA_daily_opening_candle, TSLA_daily_closing_candle)\n",
        "print(PRINCIPAL)\n",
        "print(num_trades)"
      ]
    },
    {
      "cell_type": "markdown",
      "metadata": {},
      "source": [
        "# AAPL\n",
        "1. Profit percentage = 1%\n",
        "2. Difference between trading sessions = 0.5%"
      ]
    },
    {
      "cell_type": "code",
      "execution_count": 64,
      "metadata": {
        "id": "KRNIhwFgXji6"
      },
      "outputs": [
        {
          "name": "stdout",
          "output_type": "stream",
          "text": [
            "1007.597600000001\n",
            "163\n"
          ]
        }
      ],
      "source": [
        "PRINCIPAL = 1000\n",
        "num_trades = 0\n",
        "profit_percentage = 1/100\n",
        "diff_between_trading_sessions = 0.5/100\n",
        "\n",
        "run_simulation(profit_percentage, diff_between_trading_sessions,AAPL_minute_data,AAPL_daily_opening_candle, AAPL_daily_closing_candle)\n",
        "print(PRINCIPAL)\n",
        "print(num_trades)"
      ]
    },
    {
      "cell_type": "code",
      "execution_count": null,
      "metadata": {},
      "outputs": [],
      "source": []
    }
  ],
  "metadata": {
    "colab": {
      "include_colab_link": true,
      "provenance": []
    },
    "kernelspec": {
      "display_name": "Python 3.10.8 64-bit",
      "language": "python",
      "name": "python3"
    },
    "language_info": {
      "codemirror_mode": {
        "name": "ipython",
        "version": 3
      },
      "file_extension": ".py",
      "mimetype": "text/x-python",
      "name": "python",
      "nbconvert_exporter": "python",
      "pygments_lexer": "ipython3",
      "version": "3.10.8"
    },
    "vscode": {
      "interpreter": {
        "hash": "dd345128216770f6f38b67442ad3cdddc5a19fc44e06514e71fac60fafc41200"
      }
    }
  },
  "nbformat": 4,
  "nbformat_minor": 0
}
