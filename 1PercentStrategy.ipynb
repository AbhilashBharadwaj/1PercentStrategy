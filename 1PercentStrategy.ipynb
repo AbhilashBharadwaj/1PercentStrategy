{
  "cells": [
    {
      "cell_type": "markdown",
      "metadata": {
        "id": "view-in-github",
        "colab_type": "text"
      },
      "source": [
        "<a href=\"https://colab.research.google.com/github/AbhilashBharadwaj/1PercentStrategy/blob/V1/1PercentStrategy.ipynb\" target=\"_parent\"><img src=\"https://colab.research.google.com/assets/colab-badge.svg\" alt=\"Open In Colab\"/></a>"
      ]
    },
    {
      "cell_type": "code",
      "execution_count": 21,
      "metadata": {
        "id": "ZXNfF1Z5Rdbx"
      },
      "outputs": [],
      "source": [
        "import csv  \n",
        "import time"
      ]
    },
    {
      "cell_type": "code",
      "execution_count": 22,
      "metadata": {
        "id": "bz4e0wvzSyAV"
      },
      "outputs": [],
      "source": [
        "API_KEY = 'OTPBXZ24V7Q9A24S'"
      ]
    },
    {
      "cell_type": "code",
      "execution_count": 23,
      "metadata": {
        "id": "ZA_RZXQdNDkE"
      },
      "outputs": [],
      "source": [
        "def write_to_csv(stock,data, mode):\n",
        "\n",
        "\n",
        "  # header = ['time', 'open', 'high', 'low', 'close', 'volume']\n",
        "\n",
        "  with open(\"data/\"+stock+'_minute.csv', mode, encoding='UTF8') as f:\n",
        "      writer = csv.writer(f)\n",
        "      writer.writerow(data)"
      ]
    },
    {
      "cell_type": "code",
      "execution_count": 48,
      "metadata": {
        "id": "cvEhaEP9hzbp"
      },
      "outputs": [],
      "source": [
        "time_periods ={\n",
        "    '1':'year1month1',\n",
        "    '2':'year1month2',\n",
        "    '3':'year1month3',\n",
        "    '4':'year1month4',\n",
        "    '5':'year1month5',\n",
        "    '6':'year1month6',\n",
        "    '7':'year1month7',\n",
        "    '8':'year1month8',\n",
        "    '9':'year1month9',\n",
        "    '10':'year1month10',\n",
        "    '11':'year1month11',\n",
        "    '12':'year1month12',\n",
        "    '13':'year2month1',\n",
        "    '14':'year2month2',\n",
        "    '15':'year2month3',\n",
        "    '16':'year2month4',\n",
        "    '17':'year2month5',\n",
        "    '18':'year2month6',\n",
        "    '19':'year2month7',\n",
        "    '20':'year2month8',\n",
        "    '21':'year2month9',\n",
        "    '22':'year2month10',\n",
        "    '23':'year2month11',\n",
        "    '24':'year2month12',\n",
        "}"
      ]
    },
    {
      "cell_type": "code",
      "execution_count": 49,
      "metadata": {
        "id": "l05pnchHOa14",
        "outputId": "d6337305-28a3-49e5-86ed-16d34fc420f2",
        "colab": {
          "base_uri": "https://localhost:8080/"
        }
      },
      "outputs": [
        {
          "output_type": "stream",
          "name": "stdout",
          "text": [
            "year1month1\n",
            "year1month2\n",
            "year1month3\n",
            "year1month4\n",
            "year1month5\n",
            "year1month6\n",
            "year1month7\n",
            "year1month8\n",
            "year1month9\n",
            "year1month10\n",
            "year1month11\n",
            "year1month12\n",
            "year2month1\n",
            "year2month2\n",
            "year2month3\n",
            "year2month4\n",
            "year2month5\n",
            "year2month6\n",
            "year2month7\n",
            "year2month8\n",
            "year2month9\n",
            "year2month10\n",
            "year2month11\n",
            "year2month12\n"
          ]
        }
      ],
      "source": [
        "import csv\n",
        "import requests\n",
        "\n",
        "def get_stock_csv(stock_name):\n",
        "  # Run only 5 time periods in a minute to not exceed the API hits\n",
        "  num_calls_in_a_minute = 0\n",
        "  max_calls_in_a_minute = 5\n",
        "  for month, time_period in time_periods.items():\n",
        "    CSV_URL = 'https://www.alphavantage.co/query?function=TIME_SERIES_INTRADAY_EXTENDED&symbol=%(stock)s&interval=1min&slice=%(slice)s&apikey=%(key)s&adjusted=false'\\\n",
        "            %{'stock':stock_name,'slice':time_period,'key':API_KEY}\n",
        "    with requests.Session() as s:\n",
        "        if num_calls_in_a_minute == max_calls_in_a_minute:\n",
        "            num_calls_in_a_minute = 0\n",
        "            time.sleep(60)\n",
        "        print(time_period)\n",
        "        download = s.get(CSV_URL)\n",
        "        num_calls_in_a_minute += 1\n",
        "        decoded_content = download.content.decode('utf-8')\n",
        "        cr = csv.reader(decoded_content.splitlines(), delimiter=',')\n",
        "        my_list = list(cr)\n",
        "        for row in my_list:\n",
        "          if 'open' not in row:\n",
        "            write_to_csv(stock_name, row,'a')\n",
        "get_stock_csv('GOOG')          "
      ]
    },
    {
      "cell_type": "code",
      "execution_count": 50,
      "metadata": {
        "id": "jYY4R-6IRY4J"
      },
      "outputs": [],
      "source": [
        "def get_stock_data(stock_name):\n",
        "    mode = 'r'\n",
        "    interval = 'minute'\n",
        "    file_path = 'data/' + stock_name+'_' + interval +'.csv'\n",
        "    minute_data = []\n",
        "    with open(file_path) as csv_file:\n",
        "        csv_reader = csv.reader(csv_file, delimiter=',')\n",
        "        for row in csv_reader:\n",
        "                minute_data.append(list(row))\n",
        "    return minute_data"
      ]
    },
    {
      "cell_type": "code",
      "execution_count": 82,
      "metadata": {
        "id": "zlQ1zjnu6d-q"
      },
      "outputs": [],
      "source": [
        "TSLA_minute_data = get_stock_data('TSLA')\n",
        "AAPL_minute_data = get_stock_data('AAPL')\n",
        "STNG_minute_data = get_stock_data('STNG')\n",
        "SPY_minute_data = get_stock_data('SPY')\n",
        "# GOOG_minute_data = get_stock_data('GOOG')\n",
        "\n",
        "\n"
      ]
    },
    {
      "cell_type": "code",
      "source": [
        "# i=0\n",
        "# for item in GOOG_minute_data:\n",
        "#   print(item)\n",
        "#   if (i == 10):\n",
        "#     break\n",
        "#   i+=1 "
      ],
      "metadata": {
        "id": "FyKPLzQJqjq0",
        "outputId": "016ac925-f4ae-450c-8de5-57d648a6bc13",
        "colab": {
          "base_uri": "https://localhost:8080/"
        }
      },
      "execution_count": 52,
      "outputs": [
        {
          "output_type": "stream",
          "name": "stdout",
          "text": [
            "['{']\n",
            "['    \"Note\": \"Thank you for using Alpha Vantage! Our standard API call frequency is 5 calls per minute and 500 calls per day. Please visit https://www.alphavantage.co/premium/ if you would like to target a higher API call frequency.\"']\n",
            "['}']\n",
            "['{']\n",
            "['    \"Note\": \"Thank you for using Alpha Vantage! Our standard API call frequency is 5 calls per minute and 500 calls per day. Please visit https://www.alphavantage.co/premium/ if you would like to target a higher API call frequency.\"']\n",
            "['}']\n",
            "['{']\n",
            "['    \"Note\": \"Thank you for using Alpha Vantage! Our standard API call frequency is 5 calls per minute and 500 calls per day. Please visit https://www.alphavantage.co/premium/ if you would like to target a higher API call frequency.\"']\n",
            "['}']\n",
            "['{']\n",
            "['    \"Note\": \"Thank you for using Alpha Vantage! Our standard API call frequency is 5 calls per minute and 500 calls per day. Please visit https://www.alphavantage.co/premium/ if you would like to target a higher API call frequency.\"']\n"
          ]
        }
      ]
    },
    {
      "cell_type": "code",
      "execution_count": 83,
      "metadata": {
        "id": "7-RQoFvtg57D"
      },
      "outputs": [],
      "source": [
        "def get_daily_opening_candle(minute_data):\n",
        "  daily_opening_candle = []\n",
        "  date_and_time = minute_data[0][0].split()\n",
        "  current_date = date_and_time[0]\n",
        "  for i in range(len(minute_data)):\n",
        "    date_and_time = minute_data[i][0].split()\n",
        "    end_date = date_and_time[0]\n",
        "\n",
        "\n",
        "    # if there is a change in the current_date, get the data\n",
        "    if (current_date != end_date):\n",
        "      daily_opening_candle.append(minute_data[i-1])\n",
        "      current_date = end_date\n",
        "\n",
        "  daily_opening_candle.append(minute_data[-1])\n",
        "  daily_opening_candle.reverse()\n",
        "  return daily_opening_candle"
      ]
    },
    {
      "cell_type": "code",
      "execution_count": 84,
      "metadata": {
        "id": "320sELPWD7uN"
      },
      "outputs": [],
      "source": [
        "TSLA_daily_opening_candle = get_daily_opening_candle(TSLA_minute_data)\n",
        "AAPL_daily_opening_candle = get_daily_opening_candle(AAPL_minute_data)\n",
        "STNG_daily_opening_candle = get_daily_opening_candle(STNG_minute_data)\n",
        "SPY_daily_opening_candle = get_daily_opening_candle(SPY_minute_data)\n",
        "# GOOG_daily_opening_candle = get_daily_opening_candle(GOOG_minute_data)\n",
        "\n"
      ]
    },
    {
      "cell_type": "code",
      "execution_count": 85,
      "metadata": {
        "id": "Ov6oGzy4r_gm"
      },
      "outputs": [],
      "source": [
        "def get_daily_closing_candle(minute_data):\n",
        "    daily_closing_candle=[]\n",
        "    current_date = ''\n",
        "    for i in range(len(minute_data)):\n",
        "        date_and_time = minute_data[i][0].split()\n",
        "        end_date = date_and_time[0]\n",
        "\n",
        "        # if there is a change in the current_date, get the data\n",
        "        if (current_date != end_date):\n",
        "            daily_closing_candle.append(minute_data[i])\n",
        "            current_date = end_date\n",
        "\n",
        "    daily_closing_candle.reverse()\n",
        "    return daily_closing_candle\n"
      ]
    },
    {
      "cell_type": "code",
      "execution_count": 86,
      "metadata": {
        "id": "jEwRzWk5HPH0"
      },
      "outputs": [],
      "source": [
        "TSLA_daily_closing_candle = get_daily_closing_candle(TSLA_minute_data)\n",
        "AAPL_daily_closing_candle = get_daily_closing_candle(AAPL_minute_data)\n",
        "STNG_daily_closing_candle = get_daily_closing_candle(STNG_minute_data)\n",
        "SPY_daily_closing_candle = get_daily_closing_candle(SPY_minute_data)\n"
      ]
    },
    {
      "cell_type": "code",
      "execution_count": 188,
      "metadata": {
        "id": "L0ylK6arMDJt"
      },
      "outputs": [],
      "source": [
        "# Initialize\n",
        "PRINCIPAL = 1000\n",
        "returns = []\n",
        "num_trades = 0\n"
      ]
    },
    {
      "cell_type": "code",
      "execution_count": 232,
      "metadata": {
        "id": "bN5shmutLJC-"
      },
      "outputs": [],
      "source": [
        "def close_trade(gain_or_loss):\n",
        "    global PRINCIPAL\n",
        "    global num_trades\n",
        "    returns.append(gain_or_loss)\n",
        "    # print('Old Principal', PRINCIPAL )\n",
        "    PRINCIPAL += gain_or_loss\n",
        "    # PRINCIPAL = gain_or_loss \n",
        "    # print('Profit: ', gain_or_loss)\n",
        "    # print('Current Principal: ', PRINCIPAL)\n",
        "    num_trades += 1\n"
      ]
    },
    {
      "cell_type": "code",
      "execution_count": 233,
      "metadata": {
        "id": "OvTqIrXI6d-t"
      },
      "outputs": [],
      "source": [
        "def get_time_series(date, minute_data):\n",
        "\n",
        "    time_series_data = []\n",
        "\n",
        "    for i in range(1, len(minute_data) ):\n",
        "        current_date = minute_data[i][0].split()[0]\n",
        "        if (current_date == date):\n",
        "            time_series_data.append(minute_data[i])\n",
        "            next_date = minute_data[i+1][0].split()[0]\n",
        "            if (current_date != next_date):\n",
        "                break\n",
        "    time_series_data.reverse()\n",
        "    return time_series_data"
      ]
    },
    {
      "cell_type": "code",
      "execution_count": 234,
      "metadata": {
        "id": "Nym4ivAcJM8D"
      },
      "outputs": [],
      "source": [
        "# Principal\n",
        "# Current_principal = Principal - buying_price\n",
        "# Once stock_price meets desired profit(gain)\n",
        "# Exit trade => Current_principal = current_principal + buying_price + Gain\n",
        "########################### Go bull ##################\n",
        "\n",
        "# Buy\n",
        "# Wait until you make desired profit or hit the SL\n",
        "# Exit\n",
        "def go_bull(profit_percent, buy_price, time_series_data):\n",
        "    target = buy_price + (buy_price * profit_percent)\n",
        "    stop_loss = profit_percent/2\n",
        "    bottom_line = buy_price - (buy_price*stop_loss)\n",
        "    # Start from second entry because we entered at first entry\n",
        "    global PRINCIPAL\n",
        "    num_stocks_bought = (PRINCIPAL)/buy_price\n",
        "    # Total wealth: 10000\n",
        "    # Invest 10% of it at a time\n",
        "    # If all the wealth is down to <=0, not only not enter the trade, don't even think about the trade\n",
        "    # PRINCIPAL = PRINCIPAL - (buy_price * num_stocks_bought)\n",
        "    for row in time_series_data[1:]:\n",
        "        # Check for stop loss first\n",
        "        #  Comparing with open and low\n",
        "        if (max(float(row[1]), float(row[3])) <= bottom_line):\n",
        "            close_trade((max(float(row[1]), float(row[3])) - buy_price) * num_stocks_bought)\n",
        "            return None\n",
        "        # Comparing with open and high\n",
        "        if (float(row[1]), float(row[2]) >= target):\n",
        "            close_trade((max(float(row[1]), float(row[2])) - buy_price) * num_stocks_bought)\n",
        "            return None\n",
        "    close_trade(buy_price - float(time_series_data[-1][4]))\n"
      ]
    },
    {
      "cell_type": "code",
      "execution_count": 235,
      "metadata": {
        "id": "O5R9pu-_KKoC"
      },
      "outputs": [],
      "source": [
        "# Principal\n",
        "# Current_principal = Principal - selling_price\n",
        "# Once stock_price meets desired profit(gain)\n",
        "# Exit trade => Current_principal = current_principal + selling_price + Gain\n",
        "########################### Go bear ##################\n",
        "\n",
        "# Sell\n",
        "# Wait until you make desired profit or hit the SL\n",
        "# Exit\n",
        "\n",
        "def go_bear(profit_percent, sell_price, time_series_data):\n",
        "    target = sell_price - (sell_price * profit_percent)\n",
        "    stop_loss = profit_percent/2\n",
        "    top_line = sell_price + (sell_price*stop_loss)\n",
        "\n",
        "    global PRINCIPAL                                       ##################################\n",
        "# Start from second entry because we entered at first entry\n",
        "    num_stocks_sold = (PRINCIPAL)/sell_price               ##################################  \n",
        "    # PRINCIPAL = PRINCIPAL - (sell_price * num_stocks_sold) ##################################3\n",
        "    for row in time_series_data[1:]:\n",
        "        # Check for stop loss first\n",
        "        #  Comparing with open and high\n",
        "        if (min(float(row[1]), float(row[2])) >= top_line):\n",
        "            close_trade((sell_price - min(float(row[1]), float(row[2]))) * num_stocks_sold)\n",
        "            return None\n",
        "        # Comparing with open and low\n",
        "        if (min(float(row[1]), float(row[3])) <= target):\n",
        "            close_trade((sell_price - min(float(row[1]), float(row[3]))) * num_stocks_sold)\n",
        "            return None\n",
        "    # Neither conditions hit. Close at the end of the trading day\n",
        "    close_trade(sell_price - float(time_series_data[-1][4]))\n"
      ]
    },
    {
      "cell_type": "code",
      "execution_count": 236,
      "metadata": {
        "id": "nfLlay9xsQow"
      },
      "outputs": [],
      "source": [
        "def run_simulation(profit_percentage, diff_between_trading_sessions, minute_data, daily_opening_candle, daily_closing_candle):\n",
        "\n",
        "    for i in range(len(daily_opening_candle)-1):\n",
        "\n",
        "        prev_stock_price = float(daily_closing_candle[i][4])\n",
        "        stock_price = float(daily_opening_candle[i+1][4])\n",
        "\n",
        "        bullish_condition = stock_price > prev_stock_price * \\\n",
        "            (1 + diff_between_trading_sessions)\n",
        "        bearish_condition = stock_price < prev_stock_price * \\\n",
        "            (1 - diff_between_trading_sessions)\n",
        "\n",
        "        if (bullish_condition):\n",
        "            time_series = get_time_series(\n",
        "                daily_opening_candle[i+1][0].split()[0], minute_data)\n",
        "            go_bull(profit_percentage, stock_price, time_series)\n",
        "\n",
        "        elif (bearish_condition):\n",
        "            time_series = get_time_series(\n",
        "                daily_opening_candle[i+1][0].split()[0], minute_data)\n",
        "            go_bear(profit_percentage, stock_price, time_series)\n"
      ]
    },
    {
      "cell_type": "markdown",
      "metadata": {
        "id": "R4vE40rn6d-u"
      },
      "source": [
        "# TSLA\n",
        "1. Profit percentage = 1%\n",
        "2. Difference between trading sessions = 0.5%"
      ]
    },
    {
      "cell_type": "code",
      "execution_count": 237,
      "metadata": {
        "colab": {
          "base_uri": "https://localhost:8080/"
        },
        "id": "FXpR_0pbohQ0",
        "outputId": "f35c9464-8201-4658-93fa-904fbbb921fc"
      },
      "outputs": [
        {
          "output_type": "stream",
          "name": "stdout",
          "text": [
            "Cash in hand:  1583.162516807719\n",
            "Number of days traded in 2 years:  440\n"
          ]
        }
      ],
      "source": [
        "PRINCIPAL = 1000\n",
        "num_trades = 0\n",
        "profit_percentage = 0.5/100\n",
        "diff_between_trading_sessions = 0.1/100\n",
        "\n",
        "run_simulation(profit_percentage, diff_between_trading_sessions,TSLA_minute_data,TSLA_daily_opening_candle, TSLA_daily_closing_candle)\n",
        "print('Cash in hand: ', PRINCIPAL)\n",
        "print('Number of days traded in 2 years: ', num_trades)"
      ]
    },
    {
      "cell_type": "markdown",
      "metadata": {
        "id": "JK7Wa1VS6d-w"
      },
      "source": [
        "# AAPL\n",
        "1. Profit percentage = 1%\n",
        "2. Difference between trading sessions = 0.5%"
      ]
    },
    {
      "cell_type": "code",
      "execution_count": 238,
      "metadata": {
        "colab": {
          "base_uri": "https://localhost:8080/"
        },
        "id": "KRNIhwFgXji6",
        "outputId": "a4eced3d-2a23-4180-bbf9-cc9484377bff"
      },
      "outputs": [
        {
          "output_type": "stream",
          "name": "stdout",
          "text": [
            "Cash in hand:  1231.2813679470692\n",
            "Number of days traded in 2 years:  390\n"
          ]
        }
      ],
      "source": [
        "PRINCIPAL = 1000\n",
        "num_trades = 0\n",
        "profit_percentage = 0.5/100\n",
        "diff_between_trading_sessions = 0.1/100\n",
        "\n",
        "run_simulation(profit_percentage, diff_between_trading_sessions,AAPL_minute_data,AAPL_daily_opening_candle, AAPL_daily_closing_candle)\n",
        "print('Cash in hand: ', PRINCIPAL)\n",
        "print('Number of days traded in 2 years: ', num_trades)"
      ]
    },
    {
      "cell_type": "markdown",
      "metadata": {
        "id": "LQVGLpL366h2"
      },
      "source": [
        "# STNG\n",
        "1. Profit percentage = 1%\n",
        "2. Difference between trading sessions = 0.5%"
      ]
    },
    {
      "cell_type": "code",
      "execution_count": 241,
      "metadata": {
        "colab": {
          "base_uri": "https://localhost:8080/"
        },
        "id": "Ut_6uFOE6d-x",
        "outputId": "3c648326-3003-4bce-ca1b-a8328ad0fc61"
      },
      "outputs": [
        {
          "output_type": "stream",
          "name": "stdout",
          "text": [
            "Cash in hand:  413.72556663082645\n",
            "Number of days traded in 2 years:  420\n"
          ]
        }
      ],
      "source": [
        "PRINCIPAL = 1000\n",
        "num_trades = 0\n",
        "# Highly fluctuating stocks :\n",
        "# Be conservative about when you enter the trade\n",
        "# Aim for high targets\n",
        "profit_percentage = 0.5/100\n",
        "diff_between_trading_sessions = 0.1/100\n",
        "\n",
        "run_simulation(profit_percentage, diff_between_trading_sessions,STNG_minute_data,STNG_daily_opening_candle, STNG_daily_closing_candle)\n",
        "print('Cash in hand: ', PRINCIPAL)\n",
        "print('Number of days traded in 2 years: ', num_trades)"
      ]
    },
    {
      "cell_type": "markdown",
      "metadata": {
        "id": "DrVuKypL6-v-"
      },
      "source": [
        "# SPY\n",
        "1. Profit percentage = 1%\n",
        "2. Difference between trading sessions = 0.5%"
      ]
    },
    {
      "cell_type": "code",
      "execution_count": 242,
      "metadata": {
        "colab": {
          "base_uri": "https://localhost:8080/"
        },
        "id": "uneBLjXE7AVj",
        "outputId": "6264f6b9-a748-4b51-c628-2e8e2a62691b"
      },
      "outputs": [
        {
          "output_type": "stream",
          "name": "stdout",
          "text": [
            "Cash in hand:  1036.3185964369359\n",
            "Number of days traded in 2 years:  368\n"
          ]
        }
      ],
      "source": [
        "PRINCIPAL = 1000\n",
        "num_trades = 0\n",
        "profit_percentage = 0.5/100\n",
        "diff_between_trading_sessions = 0.1/100\n",
        "\n",
        "run_simulation(profit_percentage, diff_between_trading_sessions,SPY_minute_data,SPY_daily_opening_candle, SPY_daily_closing_candle)\n",
        "print('Cash in hand: ', PRINCIPAL)\n",
        "print('Number of days traded in 2 years: ', num_trades)"
      ]
    },
    {
      "cell_type": "code",
      "source": [],
      "metadata": {
        "id": "u1fHm3ch3MDY"
      },
      "execution_count": null,
      "outputs": []
    }
  ],
  "metadata": {
    "colab": {
      "provenance": [],
      "include_colab_link": true
    },
    "kernelspec": {
      "display_name": "Python 3.10.2 64-bit",
      "language": "python",
      "name": "python3"
    },
    "language_info": {
      "codemirror_mode": {
        "name": "ipython",
        "version": 3
      },
      "file_extension": ".py",
      "mimetype": "text/x-python",
      "name": "python",
      "nbconvert_exporter": "python",
      "pygments_lexer": "ipython3",
      "version": "3.10.2"
    },
    "vscode": {
      "interpreter": {
        "hash": "ed0781f09845b0313cf4477bbae32eb07ea260722094d854f26e1a08f15889e7"
      }
    }
  },
  "nbformat": 4,
  "nbformat_minor": 0
}