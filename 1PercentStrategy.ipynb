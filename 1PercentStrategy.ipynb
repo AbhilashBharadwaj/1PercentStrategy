{
  "nbformat": 4,
  "nbformat_minor": 0,
  "metadata": {
    "colab": {
      "provenance": [],
      "include_colab_link": true
    },
    "kernelspec": {
      "name": "python3",
      "display_name": "Python 3"
    },
    "language_info": {
      "name": "python"
    }
  },
  "cells": [
    {
      "cell_type": "markdown",
      "metadata": {
        "id": "view-in-github",
        "colab_type": "text"
      },
      "source": [
        "<a href=\"https://colab.research.google.com/github/ImVis10/1PercentStrategy/blob/V1/1PercentStrategy.ipynb\" target=\"_parent\"><img src=\"https://colab.research.google.com/assets/colab-badge.svg\" alt=\"Open In Colab\"/></a>"
      ]
    },
    {
      "cell_type": "code",
      "source": [
        "import csv  \n",
        "import re\n",
        "import datetime"
      ],
      "metadata": {
        "id": "ZXNfF1Z5Rdbx"
      },
      "execution_count": 1,
      "outputs": []
    },
    {
      "cell_type": "code",
      "source": [
        "API_KEY = 'OTPBXZ24V7Q9A24S'"
      ],
      "metadata": {
        "id": "bz4e0wvzSyAV"
      },
      "execution_count": 2,
      "outputs": []
    },
    {
      "cell_type": "code",
      "source": [
        "def write_to_csv(stock,data, mode):\n",
        "\n",
        "\n",
        "  # header = ['time', 'open', 'high', 'low', 'close', 'volume']\n",
        "\n",
        "  with open(stock+'_minute.csv', mode, encoding='UTF8') as f:\n",
        "      writer = csv.writer(f)\n",
        "\n",
        "      # write the header\n",
        "      # writer.writerow(header)\n",
        "\n",
        "      # write the data\n",
        "      writer.writerow(data)"
      ],
      "metadata": {
        "id": "ZA_RZXQdNDkE"
      },
      "execution_count": 3,
      "outputs": []
    },
    {
      "cell_type": "code",
      "source": [
        "import csv\n",
        "import requests\n",
        "\n",
        "def get_stock_data(stock_name):\n",
        "  time_periods ={\n",
        "    # '1':'year1month1',\n",
        "    # '2':'year1month2',\n",
        "    # '3':'year1month3',\n",
        "    # '4':'year1month4',\n",
        "    # '5':'year1month5',\n",
        "    # '6':'year1month6',\n",
        "    # '7':'year1month7',\n",
        "    # '8':'year1month8',\n",
        "    # '9':'year1month9',\n",
        "    # '10':'year1month10',\n",
        "    # '11':'year1month11',\n",
        "    # '12':'year1month12',\n",
        "    # '13':'year2month1',\n",
        "    # '14':'year2month2',\n",
        "    # '15':'year2month3',\n",
        "    # '16':'year2month4',\n",
        "    # '17':'year2month5',\n",
        "    # '18':'year2month6',\n",
        "    # '19':'year2month7',\n",
        "    # '20':'year2month8',\n",
        "    # '21':'year2month9',\n",
        "    # '22':'year2month10',\n",
        "    # '23':'year2month11',\n",
        "    # '24':'year2month12',\n",
        "}\n",
        "  for month, time_period in time_periods.items():\n",
        "    CSV_URL = 'https://www.alphavantage.co/query?function=TIME_SERIES_INTRADAY_EXTENDED&symbol=%(stock)s&interval=1min&slice=%(slice)s&apikey=%(key)s&adjusted=false'\\\n",
        "            %{'stock':stock_name,'slice':time_period,'key':API_KEY}\n",
        "    with requests.Session() as s:\n",
        "      download = s.get(CSV_URL)\n",
        "      decoded_content = download.content.decode('utf-8')\n",
        "      cr = csv.reader(decoded_content.splitlines(), delimiter=',')\n",
        "      my_list = list(cr)\n",
        "      for row in my_list:\n",
        "          write_to_csv('test', row,'a')\n",
        "get_stock_data('IBM')          "
      ],
      "metadata": {
        "id": "l05pnchHOa14"
      },
      "execution_count": null,
      "outputs": []
    },
    {
      "cell_type": "code",
      "source": [
        "stock = 'AAPL'\n",
        "mode = 'r'\n",
        "interval = 'minute'\n",
        "file_path = stock+'_' + interval +'.csv'\n",
        "AAPL_minute_data = []\n",
        "with open(file_path) as csv_file:\n",
        "    csv_reader = csv.reader(csv_file, delimiter=',')\n",
        "    for row in csv_reader:\n",
        "            AAPL_minute_data.append(list(row))\n",
        "print('done')\n",
        "print(len(AAPL_minute_data))"
      ],
      "metadata": {
        "colab": {
          "base_uri": "https://localhost:8080/"
        },
        "id": "jYY4R-6IRY4J",
        "outputId": "4ad10e71-cb60-4ee5-8510-7a1f0468732d"
      },
      "execution_count": 203,
      "outputs": [
        {
          "output_type": "stream",
          "name": "stdout",
          "text": [
            "done\n",
            "406974\n"
          ]
        }
      ]
    },
    {
      "cell_type": "code",
      "source": [
        "daily_opening_candle = []\n"
      ],
      "metadata": {
        "id": "7-RQoFvtg57D"
      },
      "execution_count": 216,
      "outputs": []
    },
    {
      "cell_type": "code",
      "source": [
        "date_and_time = AAPL_minute_data[0][0].split()\n",
        "current_date = date_and_time[0]\n",
        "for i in range(len(AAPL_minute_data)):\n",
        "  date_and_time = AAPL_minute_data[i][0].split()\n",
        "  end_date = date_and_time[0]\n",
        "  \n",
        "\n",
        "  # if there is a change in the current_date, get the data\n",
        "  if (current_date != end_date):\n",
        "    daily_opening_candle.append(AAPL_minute_data[i-1])\n",
        "    current_date = end_date\n",
        "\n",
        "daily_opening_candle.append(AAPL_minute_data[-1])\n",
        "daily_opening_candle.reverse()"
      ],
      "metadata": {
        "id": "320sELPWD7uN"
      },
      "execution_count": 217,
      "outputs": []
    },
    {
      "cell_type": "code",
      "source": [
        "daily_closing_candle = []"
      ],
      "metadata": {
        "id": "Ov6oGzy4r_gm"
      },
      "execution_count": 218,
      "outputs": []
    },
    {
      "cell_type": "code",
      "source": [
        "current_date = ''\n",
        "for i in range(len(AAPL_minute_data)):\n",
        "  date_and_time = AAPL_minute_data[i][0].split()\n",
        "  end_date = date_and_time[0]\n",
        "\n",
        "  # if there is a change in the current_date, get the data\n",
        "  if (current_date != end_date):\n",
        "    daily_closing_candle.append(AAPL_minute_data[i])\n",
        "    current_date = end_date\n",
        "\n",
        "daily_closing_candle.reverse()  \n"
      ],
      "metadata": {
        "id": "jEwRzWk5HPH0"
      },
      "execution_count": 219,
      "outputs": []
    },
    {
      "cell_type": "code",
      "source": [
        "# Initialize \n",
        "PRINCIPAL = 1000\n",
        "returns = []\n",
        "num_trades = 0"
      ],
      "metadata": {
        "id": "L0ylK6arMDJt"
      },
      "execution_count": 220,
      "outputs": []
    },
    {
      "cell_type": "code",
      "source": [
        "def close_trade(gain_or_loss):\n",
        "  global PRINCIPAL\n",
        "  global num_trades\n",
        "  returns.append(gain_or_loss)\n",
        "  PRINCIPAL += gain_or_loss\n",
        "  num_trades+=1\n"
      ],
      "metadata": {
        "id": "bN5shmutLJC-"
      },
      "execution_count": 221,
      "outputs": []
    },
    {
      "cell_type": "code",
      "source": [
        "# Principal\n",
        "# Current_principal = Principal - buying_price\n",
        "# Once stock_price meets desired profit(gain)\n",
        "# Exit trade => Current_principal = current_principal + buying_price + Gain\n",
        "########################### Go bull ##################\n",
        "\n",
        "# Buy\n",
        "# Wait until you make desired profit or hit the SL\n",
        "# Exit\n",
        "def go_bull(profit_percent,buy_price,time_series_data):\n",
        "  target = buy_price + (buy_price * profit_percent)\n",
        "  \n",
        "  stop_loss = profit_percent/2\n",
        "  bottom_line = buy_price - (buy_price*stop_loss)\n",
        "  # Start from second entry because we entered at first entry\n",
        "  for row in time_series_data[1:]:\n",
        "    # Check for stop loss first\n",
        "    #  Comparing with open and low \n",
        "    if(max(float(row[1])  , float(row[3]))  <= bottom_line):\n",
        "      close_trade(max(float(row[1])  , float(row[3])) - buy_price)\n",
        "      return None\n",
        "    # Comparing with open and high \n",
        "    if(float(row[1]) , float(row[2])  >= target):\n",
        "      close_trade(max(float(row[1])  , float(row[2])) - buy_price)\n",
        "      return None\n",
        "  close_trade(buy_price - float(time_series_data[-1][4]))   \n"
      ],
      "metadata": {
        "id": "Nym4ivAcJM8D"
      },
      "execution_count": 222,
      "outputs": []
    },
    {
      "cell_type": "code",
      "source": [
        "# Principal\n",
        "# Current_principal = Principal - selling_price\n",
        "# Once stock_price meets desired profit(gain)\n",
        "# Exit trade => Current_principal = current_principal + selling_price + Gain\n",
        "########################### Go bear ##################\n",
        "\n",
        "# Sell\n",
        "# Wait until you make desired profit or hit the SL\n",
        "# Exit\n",
        "\n",
        "def go_bear(profit_percent, sell_price, time_series_data):\n",
        "  target = sell_price - (sell_price * profit_percent)\n",
        "  stop_loss = profit_percent/2\n",
        "  top_line = sell_price + (sell_price*stop_loss)\n",
        "\n",
        "\n",
        "# Start from second entry because we entered at first entry\n",
        "  for row in time_series_data[1:]:\n",
        "    # Check for stop loss first\n",
        "    #  Comparing with open and high\n",
        "    if(min(float(row[1]), float(row[2]))  >= top_line):\n",
        "      close_trade(sell_price - min(float(row[1])  , float(row[2])))\n",
        "      return None\n",
        "    # Comparing with open and low \n",
        "    if(min(float(row[1]),float( row[3]))  <= target):\n",
        "      close_trade( sell_price - min(float(row[1])  , float(row[3])))\n",
        "      return None\n",
        "  # Neither conditions hit. Close at the end of the trading day \n",
        "  close_trade(sell_price - float(time_series_data[-1][4]))   "
      ],
      "metadata": {
        "id": "O5R9pu-_KKoC"
      },
      "execution_count": 223,
      "outputs": []
    },
    {
      "cell_type": "code",
      "source": [
        "def get_minute_data(date):\n",
        "\n",
        "  minute_data = []\n",
        "\n",
        "  # Column header should not be considered hence len - 1\n",
        "  for i in range(1, len(AAPL_minute_data) - 1):\n",
        "      current_date = AAPL_minute_data[i][0].split()[0]\n",
        "      if (current_date == date):\n",
        "        minute_data.append(AAPL_minute_data[i])\n",
        "        next_date = AAPL_minute_data[i+1][0].split()[0]\n",
        "        if (current_date != next_date):\n",
        "          break\n",
        "  minute_data.reverse()\n",
        "  return minute_data  \n"
      ],
      "metadata": {
        "id": "rCfSbYhZO_Fu"
      },
      "execution_count": 224,
      "outputs": []
    },
    {
      "cell_type": "code",
      "source": [
        "def run_simulation(profit_percentage,diff_between_trading_sessions):\n",
        "  for i in range(len(daily_opening_candle)-1):\n",
        "    \n",
        "    prev_stock_price = float(daily_closing_candle[i][4])\n",
        "    stock_price = float(daily_opening_candle[i+1][4])\n",
        "\n",
        "    bullish_condition = stock_price > prev_stock_price * (1 + diff_between_trading_sessions)\n",
        "    bearish_condition = stock_price < prev_stock_price * (1 - diff_between_trading_sessions)\n",
        "\n",
        "    if(bullish_condition):\n",
        "      time_series = get_minute_data(daily_opening_candle[i+1][0].split()[0])\n",
        "      go_bull(profit_percentage, stock_price,time_series)\n",
        "\n",
        "    elif(bearish_condition):\n",
        "      time_series = get_minute_data(daily_opening_candle[i+1][0].split()[0])\n",
        "      go_bear(profit_percentage, stock_price,time_series)\n",
        "\n",
        "\n"
      ],
      "metadata": {
        "id": "nfLlay9xsQow"
      },
      "execution_count": 225,
      "outputs": []
    },
    {
      "cell_type": "code",
      "source": [
        "PRINCIPAL = 1000\n",
        "num_trades = 0\n",
        "profit_percentage = 1/100\n",
        "diff_between_trading_sessions = 0.5/100\n",
        "\n",
        "run_simulation(profit_percentage, diff_between_trading_sessions)"
      ],
      "metadata": {
        "id": "FXpR_0pbohQ0"
      },
      "execution_count": null,
      "outputs": []
    },
    {
      "cell_type": "code",
      "source": [
        "print(PRINCIPAL)\n",
        "print(num_trades)\n",
        "print(returns)"
      ],
      "metadata": {
        "colab": {
          "base_uri": "https://localhost:8080/"
        },
        "id": "XY8om81WMLsw",
        "outputId": "80be23b4-ce51-48d2-ab31-dbc3beb17aea"
      },
      "execution_count": 228,
      "outputs": [
        {
          "output_type": "stream",
          "name": "stdout",
          "text": [
            "1007.597600000001\n",
            "163\n",
            "[-0.18999999999999773, 0.06999999999999318, 0.11000000000001364, 0.09000000000000341, 0.0, -0.7199999999999989, -0.03999999999999204, 0.6400000000000148, -0.7599999999999909, 0.06999999999999318, 0.30000000000001137, 0.01999999999998181, -0.020000000000010232, -1.9599999999999937, 0.09999999999999432, -0.730000000000004, 0.3100000000000023, -0.0799999999999983, -0.6299999999999955, 0.46000000000000796, 0.20000000000000284, -0.6000000000000085, 1.3299999999999983, 0.0, 0.0, -0.09000000000000341, 0.09000000000000341, -0.6400000000000006, 0.0, 0.21000000000000796, 0.07999999999998408, 1.4399999999999977, 0.18000000000000682, 1.2750000000000057, 0.3100000000000023, -0.6199999999999903, -0.0799999999999983, 0.0, -0.6800000000000068, 1.460000000000008, 0.0, -0.8000000000000114, 0.21999999999999886, -0.18000000000000682, -0.08999999999997499, 1.5400000000000205, -0.8799999999999955, 0.030000000000001137, 1.4899999999999807, 0.1599999999999966, 0.0, -0.75, 1.490000000000009, 0.18999999999999773, -0.7400000000000091, 1.4800000000000182, -0.700000000000017, 0.030000000000001137, 0.0, -0.7633000000000152, -0.8000000000000114, 1.710000000000008, 0.3300000000000125, -0.8799999999999955, 0.29000000000002046, 1.8400000000000034, 0.3100000000000023, 0.21999999999999886, -0.01999999999998181, -1.0500000000000114, -0.8799999999999955, -0.9899999999999807, 0.18000000000000682, 0.13999999999998636, -0.8100000000000023, 0.5, -0.9900000000000091, -1.240000000000009, 0.0, -0.009999999999990905, -0.8199999999999932, 1.5900000000000034, -0.8200000000000216, 0.12999999999999545, -0.8600000000000136, 0.3400000000000034, 0.28000000000000114, 0.4000000000000057, 1.910000000000025, 1.990000000000009, -0.160000000000025, -0.8299999999999841, -0.8299999999999841, -0.8100000000000023, -0.1599999999999966, -0.8700000000000045, 1.6899999999999977, 0.09999999999999432, 0.060000000000002274, 0.4900000000000091, -0.7299999999999898, 0.4700000000000273, 1.6599999999999966, 0.09000000000000341, -0.11999999999997613, -0.75, 1.4199999999999875, -0.9099999999999966, -0.8199999999999932, 0.0, 1.5600000000000023, -0.0700000000000216, 1.4800000000000182, -0.9199999999999875, -0.09999999999999432, -0.9000000000000057, 0.09999999999999432, -0.710000000000008, -0.09999999999999432, 0.11000000000001364, 0.0800000000000125, 1.450000000000017, -0.6999999999999886, 0.009999999999990905, -1.1730000000000018, -0.7299999999999898, -1.039999999999992, 0.11999999999997613, -0.9200999999999908, 0.03999999999999204, -0.9799999999999898, 1.75, 1.7300000000000182, 0.09999999999999432, 0.3199999999999932, -1.4300000000000068, -0.03999999999999204, 0.09000000000000341, -0.05999999999997385, -0.8900000000000148, -0.8709999999999809, 0.18000000000000682, 0.0700000000000216, 1.5999999999999943, 1.6999999999999886, 0.0, 0.1699999999999875, 1.5400000000000205, -0.7900000000000205, -0.7399999999999807, -0.09999999999999432, -0.060000000000002274, -0.010000000000019327, -0.8100000000000023, 1.490000000000009, 1.6000000000000227, -0.2599999999999909, 0.1699999999999875, -0.8100000000000023, 0.09000000000000341, 0.0, 1.490000000000009, 0.1599999999999966]\n"
          ]
        }
      ]
    },
    {
      "cell_type": "code",
      "source": [],
      "metadata": {
        "id": "KRNIhwFgXji6"
      },
      "execution_count": null,
      "outputs": []
    }
  ]
}