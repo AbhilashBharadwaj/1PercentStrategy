{
 "cells": [
  {
   "cell_type": "code",
   "execution_count": 103,
   "metadata": {},
   "outputs": [],
   "source": [
    "import numpy as np \n",
    "\n",
    "def estimate_returns(principal,profit_percent, win_rate):\n",
    "    current_amount = principal\n",
    "    days = 252\n",
    "    win_rate = win_rate/100\n",
    "    profit_percent = profit_percent/100\n",
    "    sl = -profit_percent * 0.25\n",
    "\n",
    "    for i in range(days):\n",
    "        returnVal = np.random.choice(a=[profit_percent,sl],p=[win_rate ,1-win_rate])\n",
    "        current_amount = current_amount + current_amount*returnVal\n",
    "        #estimate(returnVal)\n",
    "\n",
    "    return (current_amount,current_amount-principal)    "
   ]
  },
  {
   "cell_type": "markdown",
   "metadata": {},
   "source": [
    "Lets assume we pull of our stratergy with a said win_rate, gain a profit of 1% or create a stop_loss of 1/4th of our gain."
   ]
  },
  {
   "cell_type": "code",
   "execution_count": 108,
   "metadata": {},
   "outputs": [
    {
     "name": "stdout",
     "output_type": "stream",
     "text": [
      "(196.76198169409503, 96.76198169409503)\n",
      "(153.38108282749036, 53.38108282749036)\n",
      "(101.69329246291265, 1.6932924629126518)\n",
      "(76.3655548752318, -23.634445124768206)\n"
     ]
    }
   ],
   "source": [
    "print(estimate_returns(principal=100, profit_percent= 1, win_rate=40))\n",
    "print(estimate_returns(principal=100, profit_percent= 1, win_rate=30))\n",
    "print(estimate_returns(principal=100, profit_percent= 1, win_rate=20))\n",
    "print(estimate_returns(principal=100, profit_percent= 1, win_rate=10))"
   ]
  },
  {
   "cell_type": "markdown",
   "metadata": {},
   "source": [
    "Lets assume we pull of our stratergy with a said win_rate, gain a profit of 0.7% or create a stop_loss of 1/4th of our gain."
   ]
  },
  {
   "cell_type": "code",
   "execution_count": 109,
   "metadata": {},
   "outputs": [
    {
     "name": "stdout",
     "output_type": "stream",
     "text": [
      "(147.35767634989372, 47.35767634989372)\n",
      "(129.27676900411058, 29.276769004110577)\n",
      "(102.13777521858107, 2.1377752185810692)\n",
      "(78.61073250975244, -21.389267490247562)\n"
     ]
    }
   ],
   "source": [
    "print(estimate_returns(principal=100, profit_percent= 0.7, win_rate=40))\n",
    "print(estimate_returns(principal=100, profit_percent= 0.7, win_rate=30))\n",
    "print(estimate_returns(principal=100, profit_percent= 0.7, win_rate=20))\n",
    "print(estimate_returns(principal=100, profit_percent= 0.7, win_rate=10))"
   ]
  },
  {
   "cell_type": "markdown",
   "metadata": {},
   "source": [
    "Lets assume we pull of our stratergy with a said win_rate, gain a profit of 0.5% or create a stop_loss of 1/4th of our gain."
   ]
  },
  {
   "cell_type": "code",
   "execution_count": 110,
   "metadata": {},
   "outputs": [
    {
     "name": "stdout",
     "output_type": "stream",
     "text": [
      "(139.59687178936554, 39.59687178936554)\n",
      "(118.69561664970152, 18.69561664970152)\n",
      "(95.41359308933785, -4.586406910662149)\n",
      "(86.89028252119874, -13.109717478801258)\n"
     ]
    }
   ],
   "source": [
    "print(estimate_returns(principal=100, profit_percent= 0.5, win_rate=40))\n",
    "print(estimate_returns(principal=100, profit_percent= 0.5, win_rate=30))\n",
    "print(estimate_returns(principal=100, profit_percent= 0.5, win_rate=20))\n",
    "print(estimate_returns(principal=100, profit_percent= 0.5, win_rate=10))"
   ]
  },
  {
   "cell_type": "markdown",
   "metadata": {},
   "source": [
    "Lets assume we pull of our stratergy with a said win_rate, gain a profit of 0.3% or create a stop_loss of 1/4th of our gain."
   ]
  },
  {
   "cell_type": "code",
   "execution_count": 111,
   "metadata": {},
   "outputs": [
    {
     "name": "stdout",
     "output_type": "stream",
     "text": [
      "(123.58125132076519, 23.58125132076519)\n",
      "(107.99127014175323, 7.991270141753233)\n",
      "(105.59126495411982, 5.591264954119822)\n",
      "(89.5467534060945, -10.453246593905504)\n"
     ]
    }
   ],
   "source": [
    "\n",
    "print(estimate_returns(principal=100, profit_percent= 0.3, win_rate=40))\n",
    "print(estimate_returns(principal=100, profit_percent= 0.3, win_rate=30))\n",
    "print(estimate_returns(principal=100, profit_percent= 0.3, win_rate=20))\n",
    "print(estimate_returns(principal=100, profit_percent= 0.3, win_rate=10))"
   ]
  },
  {
   "cell_type": "code",
   "execution_count": null,
   "metadata": {},
   "outputs": [],
   "source": []
  }
 ],
 "metadata": {
  "kernelspec": {
   "display_name": "Python 3.10.1 64-bit",
   "language": "python",
   "name": "python3"
  },
  "language_info": {
   "codemirror_mode": {
    "name": "ipython",
    "version": 3
   },
   "file_extension": ".py",
   "mimetype": "text/x-python",
   "name": "python",
   "nbconvert_exporter": "python",
   "pygments_lexer": "ipython3",
   "version": "3.10.1"
  },
  "orig_nbformat": 4,
  "vscode": {
   "interpreter": {
    "hash": "062a732f57ae0d8e7536abbf18838045d08f82b568c05df6f574510cd9eaa6c8"
   }
  }
 },
 "nbformat": 4,
 "nbformat_minor": 2
}
